{
 "cells": [
  {
   "cell_type": "code",
   "execution_count": 1,
   "id": "625c31e6",
   "metadata": {},
   "outputs": [],
   "source": [
    "#tuple and list"
   ]
  },
  {
   "cell_type": "code",
   "execution_count": 2,
   "id": "867f10a5",
   "metadata": {},
   "outputs": [],
   "source": [
    "t = (1,2,36,'erhgj')                  # tuple demnted under () bracket"
   ]
  },
  {
   "cell_type": "code",
   "execution_count": 3,
   "id": "3cc55027",
   "metadata": {},
   "outputs": [
    {
     "data": {
      "text/plain": [
       "(1, 2, 36, 'erhgj')"
      ]
     },
     "execution_count": 3,
     "metadata": {},
     "output_type": "execute_result"
    }
   ],
   "source": [
    "t"
   ]
  },
  {
   "cell_type": "code",
   "execution_count": 4,
   "id": "0c9af960",
   "metadata": {},
   "outputs": [],
   "source": [
    "l = [1, 34, 34.22, \"ankur\"]            # list denoted under [] brackrt"
   ]
  },
  {
   "cell_type": "code",
   "execution_count": 5,
   "id": "9adddb25",
   "metadata": {},
   "outputs": [
    {
     "data": {
      "text/plain": [
       "[1, 34, 34.22, 'ankur']"
      ]
     },
     "execution_count": 5,
     "metadata": {},
     "output_type": "execute_result"
    }
   ],
   "source": [
    "l"
   ]
  },
  {
   "cell_type": "code",
   "execution_count": 6,
   "id": "6346aee6",
   "metadata": {},
   "outputs": [
    {
     "data": {
      "text/plain": [
       "tuple"
      ]
     },
     "execution_count": 6,
     "metadata": {},
     "output_type": "execute_result"
    }
   ],
   "source": [
    "type(t)"
   ]
  },
  {
   "cell_type": "code",
   "execution_count": 7,
   "id": "ceca111c",
   "metadata": {},
   "outputs": [],
   "source": [
    "t1 = (123, \"ankur\", 32.36, 32+6j, True)"
   ]
  },
  {
   "cell_type": "code",
   "execution_count": 8,
   "id": "fc17c015",
   "metadata": {},
   "outputs": [
    {
     "data": {
      "text/plain": [
       "123"
      ]
     },
     "execution_count": 8,
     "metadata": {},
     "output_type": "execute_result"
    }
   ],
   "source": [
    "t1[0]"
   ]
  },
  {
   "cell_type": "code",
   "execution_count": 9,
   "id": "1873efab",
   "metadata": {},
   "outputs": [
    {
     "data": {
      "text/plain": [
       "(123, 'ankur', 32.36)"
      ]
     },
     "execution_count": 9,
     "metadata": {},
     "output_type": "execute_result"
    }
   ],
   "source": [
    "t1[0:3]"
   ]
  },
  {
   "cell_type": "code",
   "execution_count": 10,
   "id": "3c7e7007",
   "metadata": {},
   "outputs": [
    {
     "data": {
      "text/plain": [
       "(True, (32+6j), 32.36, 'ankur', 123)"
      ]
     },
     "execution_count": 10,
     "metadata": {},
     "output_type": "execute_result"
    }
   ],
   "source": [
    "t1[::-1]"
   ]
  },
  {
   "cell_type": "code",
   "execution_count": 11,
   "id": "82a783e5",
   "metadata": {},
   "outputs": [
    {
     "data": {
      "text/plain": [
       "(123, 'ankur', 32.36, (32+6j), True)"
      ]
     },
     "execution_count": 11,
     "metadata": {},
     "output_type": "execute_result"
    }
   ],
   "source": [
    "t1"
   ]
  },
  {
   "cell_type": "code",
   "execution_count": 12,
   "id": "017b9ea1",
   "metadata": {},
   "outputs": [
    {
     "data": {
      "text/plain": [
       "True"
      ]
     },
     "execution_count": 12,
     "metadata": {},
     "output_type": "execute_result"
    }
   ],
   "source": [
    "t1[-1]"
   ]
  },
  {
   "cell_type": "code",
   "execution_count": 13,
   "id": "1a2bba16",
   "metadata": {},
   "outputs": [],
   "source": [
    "t2 = (35, 25.32, \"bobade\", False)"
   ]
  },
  {
   "cell_type": "code",
   "execution_count": 14,
   "id": "93a51366",
   "metadata": {},
   "outputs": [
    {
     "data": {
      "text/plain": [
       "(123, 'ankur', 32.36, (32+6j), True, 35, 25.32, 'bobade', False)"
      ]
     },
     "execution_count": 14,
     "metadata": {},
     "output_type": "execute_result"
    }
   ],
   "source": [
    "t1 + t2"
   ]
  },
  {
   "cell_type": "code",
   "execution_count": 15,
   "id": "a8862c30",
   "metadata": {},
   "outputs": [
    {
     "data": {
      "text/plain": [
       "(123, 'ankur', 32.36, (32+6j), True, 123, 'ankur', 32.36, (32+6j), True)"
      ]
     },
     "execution_count": 15,
     "metadata": {},
     "output_type": "execute_result"
    }
   ],
   "source": [
    "t1*2"
   ]
  },
  {
   "cell_type": "code",
   "execution_count": 16,
   "id": "8bfc125d",
   "metadata": {},
   "outputs": [
    {
     "data": {
      "text/plain": [
       "(123, 'ankur', 32.36, (32+6j), True)"
      ]
     },
     "execution_count": 16,
     "metadata": {},
     "output_type": "execute_result"
    }
   ],
   "source": [
    "t1"
   ]
  },
  {
   "cell_type": "code",
   "execution_count": 17,
   "id": "5758b68c",
   "metadata": {},
   "outputs": [
    {
     "data": {
      "text/plain": [
       "0"
      ]
     },
     "execution_count": 17,
     "metadata": {},
     "output_type": "execute_result"
    }
   ],
   "source": [
    "t1.count(35)"
   ]
  },
  {
   "cell_type": "code",
   "execution_count": 18,
   "id": "7c61cb01",
   "metadata": {},
   "outputs": [
    {
     "data": {
      "text/plain": [
       "1"
      ]
     },
     "execution_count": 18,
     "metadata": {},
     "output_type": "execute_result"
    }
   ],
   "source": [
    "t1.index(\"ankur\")"
   ]
  },
  {
   "cell_type": "code",
   "execution_count": 19,
   "id": "4e56a312",
   "metadata": {},
   "outputs": [],
   "source": [
    "l1 = [1356, \"ankur\", 32.369, (3,56,32), False]"
   ]
  },
  {
   "cell_type": "code",
   "execution_count": 20,
   "id": "9dd5b31c",
   "metadata": {},
   "outputs": [
    {
     "data": {
      "text/plain": [
       "(3, 56, 32)"
      ]
     },
     "execution_count": 20,
     "metadata": {},
     "output_type": "execute_result"
    }
   ],
   "source": [
    "l1[3]"
   ]
  },
  {
   "cell_type": "code",
   "execution_count": 21,
   "id": "44bb85db",
   "metadata": {},
   "outputs": [
    {
     "ename": "TypeError",
     "evalue": "'tuple' object does not support item assignment",
     "output_type": "error",
     "traceback": [
      "\u001b[1;31m---------------------------------------------------------------------------\u001b[0m",
      "\u001b[1;31mTypeError\u001b[0m                                 Traceback (most recent call last)",
      "Cell \u001b[1;32mIn[21], line 1\u001b[0m\n\u001b[1;32m----> 1\u001b[0m l1[\u001b[38;5;241m3\u001b[39m][\u001b[38;5;241m2\u001b[39m]\u001b[38;5;241m=\u001b[39m \u001b[38;5;241m25\u001b[39m\n",
      "\u001b[1;31mTypeError\u001b[0m: 'tuple' object does not support item assignment"
     ]
    }
   ],
   "source": [
    "l1[3][2]= 25"
   ]
  },
  {
   "cell_type": "code",
   "execution_count": null,
   "id": "c72bd838",
   "metadata": {},
   "outputs": [],
   "source": [
    "t1 = ([12,35,63], \"ankur\", 236, (236,3.36, 3+5j), 56, True)"
   ]
  },
  {
   "cell_type": "code",
   "execution_count": null,
   "id": "10051bc2",
   "metadata": {},
   "outputs": [],
   "source": [
    "t1[0]"
   ]
  },
  {
   "cell_type": "code",
   "execution_count": null,
   "id": "b3cdbfd7",
   "metadata": {},
   "outputs": [],
   "source": [
    "t1[0][1]=1"
   ]
  },
  {
   "cell_type": "code",
   "execution_count": null,
   "id": "96bfc06a",
   "metadata": {},
   "outputs": [],
   "source": [
    "t1"
   ]
  },
  {
   "cell_type": "code",
   "execution_count": null,
   "id": "7e61ddd2",
   "metadata": {},
   "outputs": [],
   "source": [
    "l = [1,2,3,4,5,5,5,6,7,7,8,8,9,9,2,1,2,0]"
   ]
  },
  {
   "cell_type": "markdown",
   "id": "9a2946d8",
   "metadata": {},
   "source": [
    "##set()               \n",
    " remove all the duplicate elements and its a collection of all the unique elements"
   ]
  },
  {
   "cell_type": "code",
   "execution_count": null,
   "id": "48d94fec",
   "metadata": {},
   "outputs": [],
   "source": [
    "set(l)         # remove all the duplicate elements and its a collection of all the unique elements"
   ]
  },
  {
   "cell_type": "code",
   "execution_count": null,
   "id": "48240780",
   "metadata": {},
   "outputs": [],
   "source": [
    "s = {}"
   ]
  },
  {
   "cell_type": "code",
   "execution_count": null,
   "id": "fd2f7f30",
   "metadata": {},
   "outputs": [],
   "source": [
    "type(s)"
   ]
  },
  {
   "cell_type": "code",
   "execution_count": 25,
   "id": "b74e7b54",
   "metadata": {},
   "outputs": [],
   "source": [
    "s1 = {1,5,6, \"app data\"}"
   ]
  },
  {
   "cell_type": "code",
   "execution_count": null,
   "id": "3fb319a9",
   "metadata": {},
   "outputs": [],
   "source": [
    "type(s1)"
   ]
  },
  {
   "cell_type": "code",
   "execution_count": 23,
   "id": "b7441298",
   "metadata": {},
   "outputs": [
    {
     "data": {
      "text/plain": [
       "[1, 34, 34.22, 'ankur']"
      ]
     },
     "execution_count": 23,
     "metadata": {},
     "output_type": "execute_result"
    }
   ],
   "source": [
    "l"
   ]
  },
  {
   "cell_type": "code",
   "execution_count": 26,
   "id": "58d403de",
   "metadata": {},
   "outputs": [
    {
     "data": {
      "text/plain": [
       "{1, 5, 6, 'app data'}"
      ]
     },
     "execution_count": 26,
     "metadata": {},
     "output_type": "execute_result"
    }
   ],
   "source": [
    "s1"
   ]
  },
  {
   "cell_type": "code",
   "execution_count": 30,
   "id": "a6343a6b",
   "metadata": {},
   "outputs": [
    {
     "data": {
      "text/plain": [
       "(123, 'ankur', 32.36, (32+6j), True)"
      ]
     },
     "execution_count": 30,
     "metadata": {},
     "output_type": "execute_result"
    }
   ],
   "source": [
    "t1"
   ]
  },
  {
   "cell_type": "markdown",
   "id": "1fad1712",
   "metadata": {},
   "source": [
    "# CONVERSION OF LIST TO TUPLE AND TUPLE TO LIST\n"
   ]
  },
  {
   "cell_type": "code",
   "execution_count": 31,
   "id": "040d0ebb",
   "metadata": {},
   "outputs": [],
   "source": [
    "t2 = tuple(l)"
   ]
  },
  {
   "cell_type": "code",
   "execution_count": 33,
   "id": "fe9ce79c",
   "metadata": {},
   "outputs": [
    {
     "data": {
      "text/plain": [
       "(1, 34, 34.22, 'ankur')"
      ]
     },
     "execution_count": 33,
     "metadata": {},
     "output_type": "execute_result"
    }
   ],
   "source": [
    "t2"
   ]
  },
  {
   "cell_type": "code",
   "execution_count": 34,
   "id": "13511579",
   "metadata": {},
   "outputs": [],
   "source": [
    "l2 = list(t1)"
   ]
  },
  {
   "cell_type": "code",
   "execution_count": 39,
   "id": "10aee68a",
   "metadata": {},
   "outputs": [
    {
     "data": {
      "text/plain": [
       "[123, 'ankur', 32.36, (32+6j), True]"
      ]
     },
     "execution_count": 39,
     "metadata": {},
     "output_type": "execute_result"
    }
   ],
   "source": [
    "l2"
   ]
  },
  {
   "cell_type": "code",
   "execution_count": 40,
   "id": "12d7dd33",
   "metadata": {},
   "outputs": [],
   "source": [
    "l3 = [1,2,3,4,5,5,5,78,3,6,5,2,1,4,5,6,9,7,1,2,2,2,3,3,5,5,6,6,4,5,6]"
   ]
  },
  {
   "cell_type": "code",
   "execution_count": 42,
   "id": "57f8b952",
   "metadata": {},
   "outputs": [
    {
     "data": {
      "text/plain": [
       "{1, 2, 3, 4, 5, 6, 7, 9, 78}"
      ]
     },
     "execution_count": 42,
     "metadata": {},
     "output_type": "execute_result"
    }
   ],
   "source": [
    "set(l3)"
   ]
  },
  {
   "cell_type": "code",
   "execution_count": 57,
   "id": "1d5dc0c5",
   "metadata": {},
   "outputs": [],
   "source": [
    "s1 = set(l3)"
   ]
  },
  {
   "cell_type": "code",
   "execution_count": 58,
   "id": "2d98b435",
   "metadata": {},
   "outputs": [
    {
     "data": {
      "text/plain": [
       "{1, 2, 3, 4, 5, 6, 7, 9, 78}"
      ]
     },
     "execution_count": 58,
     "metadata": {},
     "output_type": "execute_result"
    }
   ],
   "source": [
    "s1"
   ]
  },
  {
   "cell_type": "code",
   "execution_count": 59,
   "id": "b947f2fe",
   "metadata": {},
   "outputs": [],
   "source": [
    "s1.add(12345)"
   ]
  },
  {
   "cell_type": "code",
   "execution_count": 60,
   "id": "c669e550",
   "metadata": {},
   "outputs": [
    {
     "data": {
      "text/plain": [
       "{1, 2, 3, 4, 5, 6, 7, 9, 78, 12345}"
      ]
     },
     "execution_count": 60,
     "metadata": {},
     "output_type": "execute_result"
    }
   ],
   "source": [
    "s1"
   ]
  },
  {
   "cell_type": "code",
   "execution_count": 61,
   "id": "aa019700",
   "metadata": {},
   "outputs": [],
   "source": [
    "s1.add(\"ankur\")"
   ]
  },
  {
   "cell_type": "code",
   "execution_count": 65,
   "id": "8dc6ca1f",
   "metadata": {},
   "outputs": [
    {
     "data": {
      "text/plain": [
       "{1, 12345, 2, 3, 4, 5, 6, 7, 78, 9, 'ankur'}"
      ]
     },
     "execution_count": 65,
     "metadata": {},
     "output_type": "execute_result"
    }
   ],
   "source": [
    "s1"
   ]
  },
  {
   "cell_type": "code",
   "execution_count": 66,
   "id": "deb9ccd0",
   "metadata": {},
   "outputs": [],
   "source": [
    "s1.remove(4)"
   ]
  },
  {
   "cell_type": "code",
   "execution_count": 67,
   "id": "41f54e97",
   "metadata": {},
   "outputs": [
    {
     "data": {
      "text/plain": [
       "{1, 12345, 2, 3, 5, 6, 7, 78, 9, 'ankur'}"
      ]
     },
     "execution_count": 67,
     "metadata": {},
     "output_type": "execute_result"
    }
   ],
   "source": [
    "s1"
   ]
  },
  {
   "cell_type": "code",
   "execution_count": 68,
   "id": "57fd01c8",
   "metadata": {},
   "outputs": [],
   "source": [
    "s1.discard(5)"
   ]
  },
  {
   "cell_type": "code",
   "execution_count": 69,
   "id": "9d811545",
   "metadata": {},
   "outputs": [
    {
     "data": {
      "text/plain": [
       "{1, 12345, 2, 3, 6, 7, 78, 9, 'ankur'}"
      ]
     },
     "execution_count": 69,
     "metadata": {},
     "output_type": "execute_result"
    }
   ],
   "source": [
    "s1"
   ]
  },
  {
   "cell_type": "code",
   "execution_count": 70,
   "id": "c2800225",
   "metadata": {},
   "outputs": [],
   "source": [
    "s1.discard(55)"
   ]
  },
  {
   "cell_type": "code",
   "execution_count": 71,
   "id": "f3e2bef7",
   "metadata": {},
   "outputs": [
    {
     "ename": "KeyError",
     "evalue": "55",
     "output_type": "error",
     "traceback": [
      "\u001b[1;31m---------------------------------------------------------------------------\u001b[0m",
      "\u001b[1;31mKeyError\u001b[0m                                  Traceback (most recent call last)",
      "Cell \u001b[1;32mIn[71], line 1\u001b[0m\n\u001b[1;32m----> 1\u001b[0m s1\u001b[38;5;241m.\u001b[39mremove(\u001b[38;5;241m55\u001b[39m)\n",
      "\u001b[1;31mKeyError\u001b[0m: 55"
     ]
    }
   ],
   "source": [
    "s1.remove(55)"
   ]
  },
  {
   "cell_type": "code",
   "execution_count": 74,
   "id": "7fefab3d",
   "metadata": {},
   "outputs": [
    {
     "data": {
      "text/plain": [
       "{'Ankur', 'Bobade', 'ankur'}"
      ]
     },
     "execution_count": 74,
     "metadata": {},
     "output_type": "execute_result"
    }
   ],
   "source": [
    "{\"ankur\", \"ankur\", \"Ankur\", \"Bobade\"}"
   ]
  },
  {
   "cell_type": "code",
   "execution_count": 77,
   "id": "c62f2e26",
   "metadata": {},
   "outputs": [],
   "source": [
    "s2 = {1,2,3,5,4,6,8,9,5,6,4,2,55,6,8,5,\"ankur\", \"ankur\", \"Ankur\", \"Bobade\"}"
   ]
  },
  {
   "cell_type": "code",
   "execution_count": 78,
   "id": "243f83c9",
   "metadata": {},
   "outputs": [
    {
     "data": {
      "text/plain": [
       "{1, 2, 3, 4, 5, 55, 6, 8, 9, 'Ankur', 'Bobade', 'ankur'}"
      ]
     },
     "execution_count": 78,
     "metadata": {},
     "output_type": "execute_result"
    }
   ],
   "source": [
    "s2"
   ]
  },
  {
   "cell_type": "code",
   "execution_count": 79,
   "id": "99adfefe",
   "metadata": {},
   "outputs": [],
   "source": [
    "d = {\"key1\": 21, \"key2\":56, 1:100, 2:200}"
   ]
  },
  {
   "cell_type": "code",
   "execution_count": 87,
   "id": "aac6cdde",
   "metadata": {},
   "outputs": [
    {
     "data": {
      "text/plain": [
       "21"
      ]
     },
     "execution_count": 87,
     "metadata": {},
     "output_type": "execute_result"
    }
   ],
   "source": [
    "d[\"key1\"]"
   ]
  },
  {
   "cell_type": "code",
   "execution_count": 88,
   "id": "e5e69d1f",
   "metadata": {},
   "outputs": [
    {
     "data": {
      "text/plain": [
       "100"
      ]
     },
     "execution_count": 88,
     "metadata": {},
     "output_type": "execute_result"
    }
   ],
   "source": [
    "d[1]"
   ]
  },
  {
   "cell_type": "code",
   "execution_count": 96,
   "id": "11828be1",
   "metadata": {},
   "outputs": [],
   "source": [
    "d1 = {\"key1\": [1,2,321], \"key2\":56, \"key3\":66}"
   ]
  },
  {
   "cell_type": "code",
   "execution_count": 97,
   "id": "a2148fcf",
   "metadata": {},
   "outputs": [
    {
     "data": {
      "text/plain": [
       "[1, 2, 321]"
      ]
     },
     "execution_count": 97,
     "metadata": {},
     "output_type": "execute_result"
    }
   ],
   "source": [
    "d1[\"key1\"]"
   ]
  },
  {
   "cell_type": "code",
   "execution_count": 92,
   "id": "3ddba318",
   "metadata": {},
   "outputs": [],
   "source": [
    "d1 = {\"key1\": [1,2,321], \"key2\":56, \"key1\":66}"
   ]
  },
  {
   "cell_type": "code",
   "execution_count": 95,
   "id": "147bf324",
   "metadata": {},
   "outputs": [
    {
     "data": {
      "text/plain": [
       "66"
      ]
     },
     "execution_count": 95,
     "metadata": {},
     "output_type": "execute_result"
    }
   ],
   "source": [
    "d1[\"key1\"]"
   ]
  },
  {
   "cell_type": "code",
   "execution_count": 98,
   "id": "d7e548c0",
   "metadata": {},
   "outputs": [
    {
     "data": {
      "text/plain": [
       "dict_keys(['key1', 'key2', 'key3'])"
      ]
     },
     "execution_count": 98,
     "metadata": {},
     "output_type": "execute_result"
    }
   ],
   "source": [
    "d1.keys()"
   ]
  },
  {
   "cell_type": "code",
   "execution_count": 99,
   "id": "3b1c4e0c",
   "metadata": {},
   "outputs": [
    {
     "data": {
      "text/plain": [
       "dict_values([[1, 2, 321], 56, 66])"
      ]
     },
     "execution_count": 99,
     "metadata": {},
     "output_type": "execute_result"
    }
   ],
   "source": [
    "d1.values()"
   ]
  },
  {
   "cell_type": "code",
   "execution_count": 100,
   "id": "5c70e28b",
   "metadata": {},
   "outputs": [
    {
     "data": {
      "text/plain": [
       "dict_items([('key1', [1, 2, 321]), ('key2', 56), ('key3', 66)])"
      ]
     },
     "execution_count": 100,
     "metadata": {},
     "output_type": "execute_result"
    }
   ],
   "source": [
    "d1.items()"
   ]
  },
  {
   "cell_type": "code",
   "execution_count": 107,
   "id": "a5f3055e",
   "metadata": {},
   "outputs": [],
   "source": [
    "key = (\"Name\", \"Mobile no\", \"emaik id\")\n",
    "value = \"ankur\""
   ]
  },
  {
   "cell_type": "code",
   "execution_count": 108,
   "id": "3a6cb09f",
   "metadata": {},
   "outputs": [],
   "source": [
    "d = d1.fromkeys(key,value)"
   ]
  },
  {
   "cell_type": "code",
   "execution_count": 109,
   "id": "b93f36d9",
   "metadata": {},
   "outputs": [
    {
     "data": {
      "text/plain": [
       "{'Name': 'ankur', 'Mobile no': 'ankur', 'emaik id': 'ankur'}"
      ]
     },
     "execution_count": 109,
     "metadata": {},
     "output_type": "execute_result"
    }
   ],
   "source": [
    "d"
   ]
  },
  {
   "cell_type": "code",
   "execution_count": null,
   "id": "c1655902",
   "metadata": {},
   "outputs": [],
   "source": []
  }
 ],
 "metadata": {
  "kernelspec": {
   "display_name": "Python 3 (ipykernel)",
   "language": "python",
   "name": "python3"
  },
  "language_info": {
   "codemirror_mode": {
    "name": "ipython",
    "version": 3
   },
   "file_extension": ".py",
   "mimetype": "text/x-python",
   "name": "python",
   "nbconvert_exporter": "python",
   "pygments_lexer": "ipython3",
   "version": "3.11.4"
  }
 },
 "nbformat": 4,
 "nbformat_minor": 5
}
