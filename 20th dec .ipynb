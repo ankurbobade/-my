{
 "cells": [
  {
   "cell_type": "code",
   "execution_count": null,
   "id": "472c45df",
   "metadata": {},
   "outputs": [],
   "source": [
    "l = [\"name\", \"email id\", \"mob no\", \"address\"]\n",
    "for i in l:\n",
    "    print(i + \"ineuron\")"
   ]
  },
  {
   "cell_type": "code",
   "execution_count": null,
   "id": "e51f0b86",
   "metadata": {},
   "outputs": [],
   "source": [
    "s = \"ineuron\"\n",
    "for i in s:\n",
    "    print(i)"
   ]
  },
  {
   "cell_type": "code",
   "execution_count": null,
   "id": "370b23d3",
   "metadata": {},
   "outputs": [],
   "source": [
    "l"
   ]
  },
  {
   "cell_type": "code",
   "execution_count": null,
   "id": "a3f91f37",
   "metadata": {},
   "outputs": [],
   "source": [
    "for i in l:\n",
    "    print(i)\n",
    "else :\n",
    "    print(\"the loop is not going to be completed\")"
   ]
  },
  {
   "cell_type": "code",
   "execution_count": null,
   "id": "c71ebdf4",
   "metadata": {},
   "outputs": [],
   "source": [
    "for i in l:\n",
    "    if i == \"email id\" :\n",
    "        break\n",
    "    print (i)\n",
    "else :\n",
    "    print(\"check this statement\")"
   ]
  },
  {
   "cell_type": "markdown",
   "id": "50c8269c",
   "metadata": {},
   "source": [
    "While loop"
   ]
  },
  {
   "cell_type": "code",
   "execution_count": null,
   "id": "57fa1e64",
   "metadata": {},
   "outputs": [],
   "source": [
    "a = 1\n",
    "while a < 6 :\n",
    "    print(a)\n",
    "    a = a + 1"
   ]
  },
  {
   "cell_type": "code",
   "execution_count": null,
   "id": "8d226e03",
   "metadata": {},
   "outputs": [],
   "source": [
    "a = 1\n",
    "while a < 5 :\n",
    "    print(a)\n",
    "    if a == 4 :\n",
    "        break\n",
    "    a = a +1 "
   ]
  },
  {
   "cell_type": "code",
   "execution_count": null,
   "id": "b31dbded",
   "metadata": {},
   "outputs": [],
   "source": [
    "a = 1\n",
    "while a < 5 :\n",
    "    print(a)\n",
    "    if a == a + 1 :\n",
    "        continue\n",
    "    a = a +1 "
   ]
  },
  {
   "cell_type": "code",
   "execution_count": null,
   "id": "4c67cf98",
   "metadata": {},
   "outputs": [],
   "source": [
    "a = 1\n",
    "while a < 5 :\n",
    "#    continue                      #INFINITE loop             please click on stop icon"
   ]
  },
  {
   "cell_type": "code",
   "execution_count": null,
   "id": "99cbc8ef",
   "metadata": {},
   "outputs": [],
   "source": [
    "count = 1\n",
    "while count <= 5 :\n",
    "    print(count)\n",
    "    count += count"
   ]
  },
  {
   "cell_type": "code",
   "execution_count": 2,
   "id": "6f255563",
   "metadata": {},
   "outputs": [],
   "source": [
    "l = list(range(4,10,2))                  #Range function"
   ]
  },
  {
   "cell_type": "code",
   "execution_count": 3,
   "id": "f470cb30",
   "metadata": {},
   "outputs": [
    {
     "data": {
      "text/plain": [
       "[4, 6, 8]"
      ]
     },
     "execution_count": 3,
     "metadata": {},
     "output_type": "execute_result"
    }
   ],
   "source": [
    "l"
   ]
  },
  {
   "cell_type": "code",
   "execution_count": 4,
   "id": "f5651532",
   "metadata": {},
   "outputs": [
    {
     "data": {
      "text/plain": [
       "[15, 14, 13, 12, 11]"
      ]
     },
     "execution_count": 4,
     "metadata": {},
     "output_type": "execute_result"
    }
   ],
   "source": [
    "l = list(range(15,10,-1))\n",
    "l"
   ]
  },
  {
   "cell_type": "code",
   "execution_count": 1,
   "id": "2e795b91",
   "metadata": {},
   "outputs": [
    {
     "data": {
      "text/plain": [
       "[15, 11, 7, 3, -1, -5, -9]"
      ]
     },
     "execution_count": 1,
     "metadata": {},
     "output_type": "execute_result"
    }
   ],
   "source": [
    "l = list(range(15,-10,-4))\n",
    "l"
   ]
  },
  {
   "cell_type": "code",
   "execution_count": 12,
   "id": "4e06afc8",
   "metadata": {},
   "outputs": [
    {
     "name": "stdout",
     "output_type": "stream",
     "text": [
      "*\r\n",
      "**\r\n",
      "***\r\n",
      "****\r\n",
      "*****\r\n"
     ]
    }
   ],
   "source": [
    "n = 5\n",
    "for i in range(0,n) :\n",
    "    for j in range(0,i+1) :\n",
    "        print(\"*\", end = \"\")\n",
    "    print(\"\\r\")"
   ]
  },
  {
   "cell_type": "code",
   "execution_count": 13,
   "id": "4626dcd9",
   "metadata": {},
   "outputs": [
    {
     "name": "stdout",
     "output_type": "stream",
     "text": [
      "*\n",
      "\n",
      "\n",
      "**\n",
      "\n",
      "\n",
      "***\n",
      "\n",
      "\n",
      "****\n",
      "\n",
      "\n",
      "*****\n",
      "\n",
      "\n"
     ]
    }
   ],
   "source": [
    "n = 5\n",
    "for i in range(0,n) :\n",
    "    for j in range(0,i+1) :\n",
    "        print(\"*\", end = \"\")\n",
    "    print(\"\\n\\n\")"
   ]
  },
  {
   "cell_type": "code",
   "execution_count": 14,
   "id": "dada0f06",
   "metadata": {},
   "outputs": [],
   "source": [
    "t = (1,2,5,6,8,9,4,6,2)"
   ]
  },
  {
   "cell_type": "code",
   "execution_count": 15,
   "id": "9954c7ea",
   "metadata": {},
   "outputs": [
    {
     "data": {
      "text/plain": [
       "(1, 2, 5, 6, 8, 9, 4, 6, 2)"
      ]
     },
     "execution_count": 15,
     "metadata": {},
     "output_type": "execute_result"
    }
   ],
   "source": [
    "t"
   ]
  },
  {
   "cell_type": "code",
   "execution_count": 16,
   "id": "613576fd",
   "metadata": {},
   "outputs": [
    {
     "data": {
      "text/plain": [
       "(2, 6, 4, 9, 8, 6, 5, 2, 1)"
      ]
     },
     "execution_count": 16,
     "metadata": {},
     "output_type": "execute_result"
    }
   ],
   "source": [
    "t[::-1]"
   ]
  },
  {
   "cell_type": "code",
   "execution_count": 20,
   "id": "f9b2c2ff",
   "metadata": {},
   "outputs": [
    {
     "data": {
      "text/plain": [
       "(9, 8, 7, 6, 5, 4, 3, 2, 1)"
      ]
     },
     "execution_count": 20,
     "metadata": {},
     "output_type": "execute_result"
    }
   ],
   "source": [
    "tuple(range(len(t),0,-1))"
   ]
  },
  {
   "cell_type": "code",
   "execution_count": 22,
   "id": "eb0d2019",
   "metadata": {},
   "outputs": [
    {
     "data": {
      "text/plain": [
       "[9, 8, 7, 6, 5, 4, 3, 2, 1]"
      ]
     },
     "execution_count": 22,
     "metadata": {},
     "output_type": "execute_result"
    }
   ],
   "source": [
    "t = (1,2,5,6,8,9,4,6,2)\n",
    "list(range(len(t),0,-1))"
   ]
  },
  {
   "cell_type": "code",
   "execution_count": 31,
   "id": "49cbb19c",
   "metadata": {},
   "outputs": [
    {
     "name": "stdout",
     "output_type": "stream",
     "text": [
      "2\n",
      "6\n",
      "4\n",
      "9\n",
      "8\n",
      "6\n",
      "5\n",
      "2\n",
      "1\n"
     ]
    }
   ],
   "source": [
    "for i in range(len(t)-1, -1,-1):\n",
    "    print(t[i])"
   ]
  },
  {
   "cell_type": "code",
   "execution_count": 33,
   "id": "989fceca",
   "metadata": {},
   "outputs": [
    {
     "name": "stdout",
     "output_type": "stream",
     "text": [
      "1\n",
      "98\n",
      "99\n",
      "5\n",
      "6\n",
      "56\n",
      "9\n"
     ]
    }
   ],
   "source": [
    "s = {1,5,6,6,5,6,5,6,56,9,98,99}\n",
    "for i in s :\n",
    "    print(i)"
   ]
  },
  {
   "cell_type": "code",
   "execution_count": null,
   "id": "7e190170",
   "metadata": {},
   "outputs": [],
   "source": []
  }
 ],
 "metadata": {
  "kernelspec": {
   "display_name": "Python 3 (ipykernel)",
   "language": "python",
   "name": "python3"
  },
  "language_info": {
   "codemirror_mode": {
    "name": "ipython",
    "version": 3
   },
   "file_extension": ".py",
   "mimetype": "text/x-python",
   "name": "python",
   "nbconvert_exporter": "python",
   "pygments_lexer": "ipython3",
   "version": "3.11.4"
  }
 },
 "nbformat": 4,
 "nbformat_minor": 5
}
