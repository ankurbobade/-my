{
 "cells": [
  {
   "cell_type": "markdown",
   "id": "79f325a2",
   "metadata": {},
   "source": [
    "IF else statement"
   ]
  },
  {
   "cell_type": "code",
   "execution_count": 1,
   "id": "23ea07ff",
   "metadata": {},
   "outputs": [],
   "source": [
    "a = 10"
   ]
  },
  {
   "cell_type": "code",
   "execution_count": 2,
   "id": "e7d7da17",
   "metadata": {},
   "outputs": [],
   "source": [
    "if a < 15 :\n",
    "    pass                #if i dont want to do anything (pass is a reserved keyword)"
   ]
  },
  {
   "cell_type": "code",
   "execution_count": 3,
   "id": "c6e6c46a",
   "metadata": {},
   "outputs": [
    {
     "name": "stdout",
     "output_type": "stream",
     "text": [
      "this is correct python program\n"
     ]
    }
   ],
   "source": [
    "if a < 15 :\n",
    "    print(\"this is correct python program\")"
   ]
  },
  {
   "cell_type": "code",
   "execution_count": 4,
   "id": "a6a7054e",
   "metadata": {},
   "outputs": [],
   "source": [
    "if 24 < 15 :                                        #if conditional ststement is false\n",
    "    print(\"this is correct python program\")"
   ]
  },
  {
   "cell_type": "code",
   "execution_count": 5,
   "id": "814b41a4",
   "metadata": {},
   "outputs": [
    {
     "data": {
      "text/plain": [
       "False"
      ]
     },
     "execution_count": 5,
     "metadata": {},
     "output_type": "execute_result"
    }
   ],
   "source": [
    "24 < 15"
   ]
  },
  {
   "cell_type": "code",
   "execution_count": 6,
   "id": "9490fee3",
   "metadata": {},
   "outputs": [
    {
     "name": "stdout",
     "output_type": "stream",
     "text": [
      "this is correct python program\n"
     ]
    }
   ],
   "source": [
    "if 5 < 15 :\n",
    "    print(\"this is correct python program\")"
   ]
  },
  {
   "cell_type": "code",
   "execution_count": 7,
   "id": "4cf5f028",
   "metadata": {},
   "outputs": [
    {
     "name": "stdout",
     "output_type": "stream",
     "text": [
      "this is correct python program\n"
     ]
    }
   ],
   "source": [
    "if 5 < 15 :\n",
    "    print(\"this is correct python program\")\n",
    "else :\n",
    "    print(\"this is incorrect\")"
   ]
  },
  {
   "cell_type": "code",
   "execution_count": 8,
   "id": "a2e6e788",
   "metadata": {},
   "outputs": [
    {
     "name": "stdout",
     "output_type": "stream",
     "text": [
      "i will do nothing\n"
     ]
    }
   ],
   "source": [
    "income = 100\n",
    "if income < 50 :\n",
    "    print(\"i will be able to buy a phone\")\n",
    "elif income < 70 :\n",
    "    print(\"i will be able to buy a car\")\n",
    "elif income < 80 :\n",
    "    print (\"i will able to buy a house\")\n",
    "else :\n",
    "    print(\"i will do nothing\")"
   ]
  },
  {
   "cell_type": "code",
   "execution_count": 9,
   "id": "51d53639",
   "metadata": {},
   "outputs": [
    {
     "name": "stdout",
     "output_type": "stream",
     "text": [
      "20\n",
      "i will be able to buy a phone\n"
     ]
    }
   ],
   "source": [
    "income = int (input())\n",
    "if income < 50 :\n",
    "    print(\"i will be able to buy a phone\")\n",
    "elif income < 70 :\n",
    "    print(\"i will be able to buy a car\")\n",
    "elif income < 80 :\n",
    "    print (\"i will able to buy a house\")\n",
    "else :\n",
    "    print(\"i will do nothing\")"
   ]
  },
  {
   "cell_type": "code",
   "execution_count": 10,
   "id": "1461b64a",
   "metadata": {},
   "outputs": [
    {
     "name": "stdout",
     "output_type": "stream",
     "text": [
      "5000\n",
      "discount will be 250.0\n"
     ]
    }
   ],
   "source": [
    "Total_price = int(input())\n",
    "if Total_price > 20000 :\n",
    "    discount = Total_price * .20\n",
    "    print(\"discount will be\", discount)\n",
    "elif Total_price <= 7000 :\n",
    "    discount = Total_price * .05\n",
    "    print(\"discount will be\", discount)\n",
    "else :\n",
    "    print(\"wont be able to give any discount\")"
   ]
  },
  {
   "cell_type": "code",
   "execution_count": 11,
   "id": "a755afad",
   "metadata": {},
   "outputs": [
    {
     "name": "stdout",
     "output_type": "stream",
     "text": [
      "100\n",
      "kindly use valid coupone code\n"
     ]
    }
   ],
   "source": [
    "coup = input()\n",
    "if coup == \"ANKUR55\" :\n",
    "    print(\"you will get discount of 5%\")\n",
    "    paid_amount = 7080 - 7080 * 0.05\n",
    "    print(\"you will get this subscription with this amount\", paid_amount)\n",
    "else :\n",
    "    print(\"kindly use valid coupone code\")"
   ]
  },
  {
   "cell_type": "code",
   "execution_count": 12,
   "id": "7e772235",
   "metadata": {},
   "outputs": [
    {
     "name": "stdout",
     "output_type": "stream",
     "text": [
      "556\n",
      "may take 3 months to suceed\n"
     ]
    }
   ],
   "source": [
    "study_hour = int(input())\n",
    "if study_hour <  1:\n",
    "    print(\"may take 8-9 months to suceed\")\n",
    "elif study_hour < 4 and study_hour > 1:                         # use 'and' operator do not use '&' in python\n",
    "    print(\"may take 6 months to suceed\")\n",
    "elif study_hour > 10:\n",
    "    print(\"may take 3 months to suceed\")\n",
    "else :\n",
    "    print(\"it is difficult to suceed\")"
   ]
  },
  {
   "cell_type": "code",
   "execution_count": 4,
   "id": "e50c8491",
   "metadata": {},
   "outputs": [
    {
     "name": "stdout",
     "output_type": "stream",
     "text": [
      "enter a string to startl\n",
      "kindly contact our team\n"
     ]
    }
   ],
   "source": [
    "s = input(\"enter a string to start\")\n",
    "if s == \"ineuron\" :\n",
    "   course = input(\"enter a course name\")\n",
    "   if course == \"DSA\" :\n",
    "        print(\"yes its available under ineuron\")\n",
    "   elif course == \"blockchain\" :\n",
    "        print( \"its not available right now\")\n",
    "   else :\n",
    "        print(\"kindly raise your demand\")\n",
    "elif s == \"ineuron services\" :\n",
    "    service = input(\"what kind of services you want\")\n",
    "    if service == \"service request\" :\n",
    "        print(\"not available at the moment\")\n",
    "    elif service == \"module\" :\n",
    "        print(\"not available\")\n",
    "    else :\n",
    "        print(\" kindly provide your feedback\")\n",
    "else :\n",
    "    print(\"kindly contact our team\")\n"
   ]
  },
  {
   "cell_type": "code",
   "execution_count": null,
   "id": "5e82d858",
   "metadata": {},
   "outputs": [],
   "source": [
    "s = input(\"enter a string to start\")\n",
    "course = input(\"enter a course name\")\n",
    "service = input(\"what kind of services you want\")\n",
    "if s == \"ineuron\" :\n",
    "    if course == \"DSA\" :\n",
    "        print(\"yes its available under ineuron\")\n",
    "    elif course == \"blockchain\" :\n",
    "        print( \"its not available right now\")\n",
    "    else :\n",
    "        print(\"kindly raise your demand\")\n",
    "elif s == \"ineuron services\" :\n",
    "    if service == \"service request\" :\n",
    "        print(\"not available at the moment\")\n",
    "    elif service == \"module\" :\n",
    "        print(\"not available\")\n",
    "    else :\n",
    "        print(\" kindly provide your feedback\")\n",
    "else :\n",
    "    print(\"kindly contact our team\")\n"
   ]
  },
  {
   "cell_type": "markdown",
   "id": "066423d8",
   "metadata": {},
   "source": [
    "for Loop"
   ]
  },
  {
   "cell_type": "code",
   "execution_count": null,
   "id": "f120868d",
   "metadata": {},
   "outputs": [],
   "source": [
    "l = [1,2,3,4,5,6,7,8,9]\n",
    "for i in l :\n",
    "    print(i)"
   ]
  },
  {
   "cell_type": "code",
   "execution_count": null,
   "id": "5359d78d",
   "metadata": {},
   "outputs": [],
   "source": [
    "s = \"ankur\"\n",
    "for i in s :\n",
    "    print(i)"
   ]
  },
  {
   "cell_type": "code",
   "execution_count": null,
   "id": "54faba97",
   "metadata": {},
   "outputs": [],
   "source": [
    "t = (1,2,5,6,8,9)\n",
    "for i in t :\n",
    "    print (i)"
   ]
  },
  {
   "cell_type": "code",
   "execution_count": null,
   "id": "1fbde97c",
   "metadata": {},
   "outputs": [],
   "source": [
    "l = [1,2,3,5.6,4+8j, \"ankur\"]"
   ]
  },
  {
   "cell_type": "code",
   "execution_count": null,
   "id": "a1791bec",
   "metadata": {},
   "outputs": [],
   "source": [
    "for i in l :\n",
    "    print(type(i))"
   ]
  },
  {
   "cell_type": "code",
   "execution_count": null,
   "id": "6a307426",
   "metadata": {},
   "outputs": [],
   "source": [
    "l = [1,2,3,5.6,4+8j, \"ankur\"]\n",
    "for i in l :\n",
    "    print(type(i), \"type of\", i)"
   ]
  },
  {
   "cell_type": "code",
   "execution_count": null,
   "id": "5e44e865",
   "metadata": {},
   "outputs": [],
   "source": [
    "l = [1,2,3,5.6,4]\n",
    "for i in l :\n",
    "    print(i+2)"
   ]
  },
  {
   "cell_type": "code",
   "execution_count": null,
   "id": "1bc41f85",
   "metadata": {},
   "outputs": [],
   "source": [
    "l = [1,2,3,5.6,4]\n",
    "l1 = []\n",
    "for i in l :\n",
    "    print(i+2)\n",
    "    l1.append(i+2)"
   ]
  },
  {
   "cell_type": "code",
   "execution_count": null,
   "id": "5559b813",
   "metadata": {},
   "outputs": [],
   "source": [
    "l1"
   ]
  },
  {
   "cell_type": "code",
   "execution_count": null,
   "id": "cd82a59d",
   "metadata": {},
   "outputs": [],
   "source": [
    "l = [25, 35, 62,2.35, 2.3, \"ineuron\", 6+6j, 332, [12,35,6], True]\n",
    "for i in l :\n",
    "    if type(i) == int :\n",
    "        print(i)\n",
    "    "
   ]
  },
  {
   "cell_type": "code",
   "execution_count": null,
   "id": "5a3d11c3",
   "metadata": {},
   "outputs": [],
   "source": [
    "l = [25, 35, 62,2.35, 2.3, \"ineuron\", 6+6j, 332, [12,35,6], True]\n",
    "for i in l :\n",
    "    if type(i) == float :\n",
    "        print(i)\n",
    "    "
   ]
  },
  {
   "cell_type": "code",
   "execution_count": null,
   "id": "6e14d410",
   "metadata": {},
   "outputs": [],
   "source": [
    "l = [25, 35, 62,2.35, 2.3, \"ineuron\", 6+6j, 332, [12,35,6], True]\n",
    "for i in l :\n",
    "    if type(i) == complex :\n",
    "        print(i)\n",
    "    "
   ]
  },
  {
   "cell_type": "code",
   "execution_count": null,
   "id": "521b5562",
   "metadata": {},
   "outputs": [],
   "source": [
    "l = [25, 35, 62,2.35, 2.3, \"ineuron\", 6+6j, 332, [12,35,6], True]\n",
    "for i in l :\n",
    "    if type(i) == list :\n",
    "        print(i)\n",
    "    "
   ]
  },
  {
   "cell_type": "code",
   "execution_count": null,
   "id": "ae0ac0e6",
   "metadata": {},
   "outputs": [],
   "source": [
    "l = [25, 35, 62,2.35, 2.3, \"ineuron\", 6+6j, 332, [12,35,6], True]\n",
    "for i in l :\n",
    "    if type(i) == int :\n",
    "        print(i)\n",
    "    elif type (i) == list:\n",
    "        for j in i :\n",
    "            if type(j) == int:\n",
    "                print(j)"
   ]
  },
  {
   "cell_type": "code",
   "execution_count": null,
   "id": "7ac94746",
   "metadata": {},
   "outputs": [],
   "source": [
    "l = [25, 35, 62,2.35, 2.3, \"ineuron\", 6+6j, 332, [12,35,6], True]\n",
    "#q1 . try to print index of all the elements\n",
    "#q2 . try to extract all the list of char if element is string\n",
    "#q3 . try to return a list after doing a square of all the int element"
   ]
  },
  {
   "cell_type": "code",
   "execution_count": null,
   "id": "4feaab90",
   "metadata": {},
   "outputs": [],
   "source": [
    "#q1 . try to print index of all the elements\n",
    "\n",
    "l = [25, 35, 62,2.35, 2.3, \"ineuron\", 6+6j, 332, [12,35,6], True]\n",
    "for index, element in enumerate(l):\n",
    "    print(f\"Index {index}: {element}\")\n",
    " "
   ]
  },
  {
   "cell_type": "markdown",
   "id": "39ec63e4",
   "metadata": {},
   "source": [
    "OR\n"
   ]
  },
  {
   "cell_type": "code",
   "execution_count": null,
   "id": "a58f3b91",
   "metadata": {},
   "outputs": [],
   "source": [
    "l = [25, 35, 62,2.35, 2.3, \"ineuron\", 6+6j, 332, [12,35,6], True]\n",
    "len(l)\n",
    "for i in range(len(l)) :\n",
    "    print (\"inndex\", i, \"for an element\", l[i])"
   ]
  },
  {
   "cell_type": "code",
   "execution_count": null,
   "id": "03f49928",
   "metadata": {},
   "outputs": [],
   "source": [
    "#q1 . try to print index of all the elements\n",
    "\n",
    "l = [25, 35, 62,2.35, 2.3, \"ineuron\", 6+6j, 332, [12,35,6], True]\n",
    "len(l)\n",
    "for i, j in enumerate(l):\n",
    "    print(i, j)\n",
    " "
   ]
  },
  {
   "cell_type": "code",
   "execution_count": null,
   "id": "b8ba3a56",
   "metadata": {},
   "outputs": [],
   "source": [
    "#q2 . try to extract all the list of char if element is string\n",
    "\n",
    "l = [25, 35, 62, 2.35, 2.3, \"ineuron\", 6+6j, 332, [12, 35, 6], True]\n",
    "\n",
    "string_elements = [element for element in l if isinstance(element, str)]\n",
    "\n",
    "print(string_elements)\n"
   ]
  },
  {
   "cell_type": "markdown",
   "id": "dc71d335",
   "metadata": {},
   "source": [
    "OR"
   ]
  },
  {
   "cell_type": "code",
   "execution_count": 17,
   "id": "b0b2d267",
   "metadata": {},
   "outputs": [
    {
     "name": "stdout",
     "output_type": "stream",
     "text": [
      "['a', 'n', 'k', 'u', 'r']\n"
     ]
    }
   ],
   "source": [
    "l = [25, 35, 62, 2.35, 2.3, \"ineuron\", 6+6j, 332, [12, 35, 6], True]\n",
    "for i in l:\n",
    "    if type(i) == str :\n",
    "        l1 = []\n",
    "        for j in i :\n",
    "            l1.append(j)\n",
    "print(l1)"
   ]
  },
  {
   "cell_type": "code",
   "execution_count": 15,
   "id": "fcb6672f",
   "metadata": {},
   "outputs": [
    {
     "name": "stdout",
     "output_type": "stream",
     "text": [
      "[625, 1225, 3844, 110224, 1]\n"
     ]
    }
   ],
   "source": [
    "l = [25, 35, 62, 2.35, 2.3, \"ineuron\", 6+6j, 332, [12, 35, 6], True]\n",
    "\n",
    "squared_integers = [x**2 for x in l if isinstance(x, int)]\n",
    "\n",
    "print(squared_integers)\n"
   ]
  },
  {
   "cell_type": "code",
   "execution_count": 16,
   "id": "06b585f6",
   "metadata": {},
   "outputs": [
    {
     "name": "stdout",
     "output_type": "stream",
     "text": [
      "[625, 1225, 3844, 110224]\n"
     ]
    }
   ],
   "source": [
    "l = [25, 35, 62, 2.35, 2.3, \"ineuron\", 6+6j, 332, [12, 35, 6], True]\n",
    "l2 = []\n",
    "for i in l :\n",
    "    if type(i) == int :\n",
    "        l2.append(i**2)\n",
    "print(l2)"
   ]
  },
  {
   "cell_type": "code",
   "execution_count": null,
   "id": "08e6d756",
   "metadata": {},
   "outputs": [],
   "source": []
  }
 ],
 "metadata": {
  "kernelspec": {
   "display_name": "Python 3 (ipykernel)",
   "language": "python",
   "name": "python3"
  },
  "language_info": {
   "codemirror_mode": {
    "name": "ipython",
    "version": 3
   },
   "file_extension": ".py",
   "mimetype": "text/x-python",
   "name": "python",
   "nbconvert_exporter": "python",
   "pygments_lexer": "ipython3",
   "version": "3.11.4"
  }
 },
 "nbformat": 4,
 "nbformat_minor": 5
}
